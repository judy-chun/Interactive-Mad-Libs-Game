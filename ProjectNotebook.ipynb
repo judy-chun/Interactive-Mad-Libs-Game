{
 "cells": [
  {
   "cell_type": "markdown",
   "metadata": {},
   "source": [
    "# Mad Libs Game by Judy Chun "
   ]
  },
  {
   "cell_type": "markdown",
   "metadata": {},
   "source": [
    "I developed a interactive project that plays the game of Christmas-themed Mad Libs with the user and generates a Mad Libs story based on user input. Mad Libs is a phrasal template word game where it prompts users for a list of words to substitute for blanks in a story, before reading the comical story aloud. The game enables the user to input username and password of their choice, and uses the encryption feature to encrypt the given password in order to begin the game. When the game begins, the game asks the users to provide 3 words that help to describe themselves, favorite colors, wish list for Christmas, favorite number, most-liked animal, and favored hobby. Based on these user inputs, the game will generate a tailored Mad Libs story. \n",
    "\n",
    "Below I will highlight some distinctive features of the game:  \n",
    "- Username and Password Feature: a fake Login experience  \n",
    "- Password Encryption Feature: for security purposes to authenticate that the user is a real human\n",
    "- Chat Generator Feature: prompts user to provide necessary inputs to generate a tailored Mad Libs story\n",
    "- Prepare Word Feature: removes punctuation and uppercases in user inputs for processing \n",
    "- Error Message Feature: for help and documentation so that the user can recover from errors \n",
    "- End Game Feature: enables the user to exit game at any point during the game \n",
    "- Replay Feature: user can replay the game however many times he or she wants if desired \n",
    "\n",
    "Throughout the entire game, an error message will be provided to help users recover from errors. The game either allows the user to replay the game if desired or end the game, and asks whether the user has enjoyed the game or not. Hopefully, you all enjoy my interactive Mad Libs game!\n",
    "\n"
   ]
  },
  {
   "cell_type": "markdown",
   "metadata": {},
   "source": [
    "## Project Code\n",
    "\n",
    "I have code in the notebook as well. Please execute the cells below to run my code! :) "
   ]
  },
  {
   "cell_type": "code",
   "execution_count": null,
   "metadata": {},
   "outputs": [],
   "source": [
    "# Imports \n",
    "from my_module.functions import chat_generator"
   ]
  },
  {
   "cell_type": "code",
   "execution_count": null,
   "metadata": {},
   "outputs": [],
   "source": [
    "# Execute this cell to run my code \n",
    "chat_generator()"
   ]
  },
  {
   "cell_type": "markdown",
   "metadata": {},
   "source": [
    "This project is on Github at: http://github.com/judy-chun/Mad-Libs-Game"
   ]
  },
  {
   "cell_type": "code",
   "execution_count": null,
   "metadata": {},
   "outputs": [],
   "source": []
  }
 ],
 "metadata": {
  "kernelspec": {
   "display_name": "Python 3",
   "language": "python",
   "name": "python3"
  },
  "language_info": {
   "codemirror_mode": {
    "name": "ipython",
    "version": 3
   },
   "file_extension": ".py",
   "mimetype": "text/x-python",
   "name": "python",
   "nbconvert_exporter": "python",
   "pygments_lexer": "ipython3",
   "version": "3.6.5"
  }
 },
 "nbformat": 4,
 "nbformat_minor": 2
}
